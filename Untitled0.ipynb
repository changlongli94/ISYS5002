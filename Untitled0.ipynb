{
  "nbformat": 4,
  "nbformat_minor": 0,
  "metadata": {
    "colab": {
      "provenance": [],
      "include_colab_link": true
    },
    "kernelspec": {
      "name": "python3",
      "display_name": "Python 3"
    },
    "language_info": {
      "name": "python"
    }
  },
  "cells": [
    {
      "cell_type": "markdown",
      "metadata": {
        "id": "view-in-github",
        "colab_type": "text"
      },
      "source": [
        "<a href=\"https://colab.research.google.com/github/changlongli94/ISYS5002/blob/main/Untitled0.ipynb\" target=\"_parent\"><img src=\"https://colab.research.google.com/assets/colab-badge.svg\" alt=\"Open In Colab\"/></a>"
      ]
    },
    {
      "cell_type": "code",
      "execution_count": 19,
      "metadata": {
        "id": "70xs2FVC6qYJ",
        "outputId": "cf0ae2c6-4e98-49bc-da13-3cabfde5c501",
        "colab": {
          "base_uri": "https://localhost:8080/"
        }
      },
      "outputs": [
        {
          "output_type": "stream",
          "name": "stdout",
          "text": [
            "Required packages installation step completed.\n"
          ]
        }
      ],
      "source": [
        "# Install necessary packages\n",
        "!pip install pyinputplus -q\n",
        "!pip install pandas -q # Though pandas is usually pre-installed in Colab\n",
        "print(\"Required packages installation step completed.\")"
      ]
    },
    {
      "cell_type": "markdown",
      "source": [
        "# # Weather Advisor Application\n",
        "# ## Name Changlong Li/ID 21809673\n",
        "# This notebook implements the Weather Advisor application with comprehensive visualisations."
      ],
      "metadata": {
        "id": "fGVhQsaoCVN7"
      }
    },
    {
      "cell_type": "markdown",
      "source": [
        "# ## 0. Package Installation"
      ],
      "metadata": {
        "id": "3WrjI-jlCYkn"
      }
    },
    {
      "cell_type": "code",
      "source": [
        "!pip install pyinputplus -q\n",
        "!pip install pandas -q\n",
        "print(\"Required packages installation step completed.\")"
      ],
      "metadata": {
        "id": "Vm-ray5wCbw7",
        "outputId": "feeaa372-cc26-42ea-e72c-98f90cd63fe3",
        "colab": {
          "base_uri": "https://localhost:8080/"
        }
      },
      "execution_count": 20,
      "outputs": [
        {
          "output_type": "stream",
          "name": "stdout",
          "text": [
            "Required packages installation step completed.\n"
          ]
        }
      ]
    },
    {
      "cell_type": "markdown",
      "source": [
        "# ## 1. Setup and Configuration"
      ],
      "metadata": {
        "id": "k-HOQyTICg6I"
      }
    },
    {
      "cell_type": "code",
      "source": [
        "import pyinputplus\n",
        "import requests\n",
        "import json\n",
        "import matplotlib.pyplot as plt\n",
        "import pandas as pd\n",
        "from datetime import datetime\n",
        "\n",
        "DEFAULT_FORECAST_DAYS = 3\n",
        "print(\"Libraries imported and setup complete.\")"
      ],
      "metadata": {
        "id": "odAdPut_Cj3x",
        "outputId": "32dedc58-36fe-49fe-cd64-f4cc8099390f",
        "colab": {
          "base_uri": "https://localhost:8080/"
        }
      },
      "execution_count": 21,
      "outputs": [
        {
          "output_type": "stream",
          "name": "stdout",
          "text": [
            "Libraries imported and setup complete.\n"
          ]
        }
      ]
    },
    {
      "cell_type": "markdown",
      "source": [
        "# ## 2. Weather Data Functions\n",
        "# Updated to extract more daily forecast details from hourly data."
      ],
      "metadata": {
        "id": "qLbPKv9qCoBf"
      }
    },
    {
      "cell_type": "code",
      "source": [
        "def get_weather_data(location: str, forecast_days: int = 3) -> dict:\n",
        "    print(f\"Fetching REAL weather data for {location} for {forecast_days} days from wttr.in...\")\n",
        "    url = f\"https://wttr.in/{location}?format=j1\"\n",
        "    processed_data = {\"current\": {}, \"forecast\": []}\n",
        "    try:\n",
        "        response = requests.get(url, timeout=15) # Increased timeout slightly\n",
        "        response.raise_for_status()\n",
        "        data = response.json()\n",
        "        current_condition = data.get('current_condition', [{}])[0]\n",
        "        # Today's astronomy data is in the first day of the 'weather' (forecast) list\n",
        "        today_astronomy = data.get('weather', [{}])[0].get('astronomy', [{}])[0] if data.get('weather') else {}\n",
        "\n",
        "        processed_data['current'] = {\n",
        "            \"temperature\": f\"{current_condition.get('temp_C')}°C\",\n",
        "            \"feels_like_temp\": f\"{current_condition.get('FeelsLikeC')}°C\",\n",
        "            \"condition\": current_condition.get('weatherDesc', [{}])[0].get('value', 'N/A'),\n",
        "            \"humidity\": f\"{current_condition.get('humidity')}%\",\n",
        "            \"wind_speed\": current_condition.get('windspeedKmph'), # Store as number for potential later use\n",
        "            \"wind_direction\": current_condition.get('winddir16Point'),\n",
        "            \"wind_full\": f\"{current_condition.get('windspeedKmph')} km/h {current_condition.get('winddir16Point')}\",\n",
        "            \"visibility\": current_condition.get('visibility'), # Store as number\n",
        "            \"visibility_full\": f\"{current_condition.get('visibility')} km\",\n",
        "            \"pressure\": current_condition.get('pressure'), # Store as number\n",
        "            \"pressure_full\": f\"{current_condition.get('pressure')} hPa\",\n",
        "            \"uvIndex\": current_condition.get('uvIndex', 'N/A'),\n",
        "            \"sunrise\": today_astronomy.get('sunrise', 'N/A'),\n",
        "            \"sunset\": today_astronomy.get('sunset', 'N/A'),\n",
        "            \"moonrise\": today_astronomy.get('moonrise', 'N/A'),\n",
        "            \"moonset\": today_astronomy.get('moonset', 'N/A'),\n",
        "            \"moon_phase\": today_astronomy.get('moon_phase', 'N/A')\n",
        "        }\n",
        "        actual_forecast_days = min(forecast_days, len(data.get('weather', [])))\n",
        "        for i in range(actual_forecast_days):\n",
        "            day_fc_data = data['weather'][i]\n",
        "            day_astro = day_fc_data.get('astronomy', [{}])[0]\n",
        "            # Get midday (12:00 PM) hourly data for representative daily values\n",
        "            # wttr.in hourly: 00:00 (idx 0), 03:00 (idx 1), ..., 12:00 (idx 4), ... 21:00 (idx 7)\n",
        "            midday_hourly_data = day_fc_data.get('hourly', [{} for _ in range(8)])[4] # Index 4 for 12:00 PM\n",
        "\n",
        "            max_precip = \"0\"\n",
        "            if 'hourly' in day_fc_data:\n",
        "                hourly_precip = [int(h.get('chanceofrain', \"0\")) for h in day_fc_data['hourly']]\n",
        "                if hourly_precip: max_precip = str(max(hourly_precip))\n",
        "\n",
        "            forecast_item = {\n",
        "                \"date\": day_fc_data.get('date'),\n",
        "                \"max_temp\": day_fc_data.get('maxtempC'), # Store as number\n",
        "                \"min_temp\": day_fc_data.get('mintempC'), # Store as number\n",
        "                \"condition\": midday_hourly_data.get('weatherDesc', [{}])[0].get('value', 'N/A'), # Midday condition\n",
        "                \"precipitation_chance\": max_precip, # Store as number string\n",
        "                \"uvIndex\": day_fc_data.get('uvIndex', '0'), # Default to '0' if missing, store as string for consistency\n",
        "                \"sunrise\": day_astro.get('sunrise', 'N/A'),\n",
        "                \"sunset\": day_astro.get('sunset', 'N/A'),\n",
        "                \"moonrise\": day_astro.get('moonrise', 'N/A'),\n",
        "                \"moonset\": day_astro.get('moonset', 'N/A'),\n",
        "                \"moon_phase\": day_astro.get('moon_phase', 'N/A'),\n",
        "                # New representative daily values from midday hourly forecast\n",
        "                \"humidity\": midday_hourly_data.get('humidity', '0'), # %\n",
        "                \"wind_speed\": midday_hourly_data.get('windspeedKmph', '0'), # km/h\n",
        "                \"pressure\": midday_hourly_data.get('pressure', '0'), # hPa\n",
        "                \"visibility\": midday_hourly_data.get('visibility', '0') # km\n",
        "            }\n",
        "            processed_data['forecast'].append(forecast_item)\n",
        "        return processed_data\n",
        "    except requests.exceptions.HTTPError as http_err:\n",
        "        # (Error handling code remains the same as previous version)\n",
        "        error_message = f\"HTTP error: {http_err}\"\n",
        "        if response is not None and response.status_code == 404:\n",
        "             error_message = f\"Location '{location}' not found or invalid.\"\n",
        "        else: error_message = \"Could not retrieve weather data due to an API or network error.\"\n",
        "        print(f\"HTTP error occurred: {http_err} - {error_message}\")\n",
        "        processed_data['current']['error_message'] = error_message; return processed_data\n",
        "    except requests.exceptions.ConnectionError as conn_err:\n",
        "        print(f\"Connection error: {conn_err}\"); processed_data['current']['error_message'] = \"Could not connect.\"; return processed_data\n",
        "    except requests.exceptions.Timeout as timeout_err:\n",
        "        print(f\"Timeout error: {timeout_err}\"); processed_data['current']['error_message'] = \"Request timed out.\"; return processed_data\n",
        "    except requests.exceptions.RequestException as req_err:\n",
        "        print(f\"Request error: {req_err}\"); processed_data['current']['error_message'] = \"Unexpected request error.\"; return processed_data\n",
        "    except (KeyError, IndexError, TypeError) as e:\n",
        "        print(f\"Error parsing data for {location}: {e}\"); processed_data['current']['error_message'] = f\"Data parsing error: {e}\"; return processed_data"
      ],
      "metadata": {
        "id": "4qJiqLvPCtdC"
      },
      "execution_count": 22,
      "outputs": []
    },
    {
      "cell_type": "markdown",
      "source": [
        "# ## 3. Visualisation Functions\n",
        "# Added visualisations for Humidity, Wind Speed, Pressure, and Visibility."
      ],
      "metadata": {
        "id": "ZJ8yNgOtC01w"
      }
    },
    {
      "cell_type": "code",
      "source": [
        "def _plot_forecast_data(dates, values, title, ylabel, color='tab:blue', marker='o', linestyle='-'):\n",
        "    \"\"\"Helper function to create a generic forecast plot.\"\"\"\n",
        "    fig, ax = plt.subplots()\n",
        "    ax.plot(dates, values, marker=marker, linestyle=linestyle, label=ylabel, color=color)\n",
        "    ax.set_xlabel(\"Date\")\n",
        "    ax.set_ylabel(ylabel)\n",
        "    ax.set_title(title)\n",
        "    ax.legend()\n",
        "    ax.grid(True)\n",
        "    plt.xticks(rotation=45)\n",
        "    plt.tight_layout()\n",
        "    plt.show()\n",
        "\n",
        "def create_temperature_visualisation(weather_data: dict, output_type: str = 'display'):\n",
        "    # (Code for temp viz remains largely the same, just using numeric types from get_weather_data now)\n",
        "    if not weather_data or not weather_data.get(\"forecast\"): print(\"No forecast data for temperature viz.\"); return\n",
        "    forecasts = weather_data[\"forecast\"]\n",
        "    if not forecasts: print(\"Forecast list empty for temperature viz.\"); return\n",
        "    dates = [item.get(\"date\", f\"Day {i+1}\") for i, item in enumerate(forecasts)]\n",
        "    try:\n",
        "        max_temps = [int(item.get(\"max_temp\", 0)) for item in forecasts] # Already number from get_weather_data\n",
        "        min_temps = [int(item.get(\"min_temp\", 0)) for item in forecasts] # Already number\n",
        "    except (ValueError, TypeError) as e: print(f\"Error processing temp data for viz: {e}\"); return\n",
        "    fig, ax = plt.subplots(); ax.plot(dates, max_temps, marker='o', linestyle='-', label='Max Temperature (°C)', color='red')\n",
        "    ax.plot(dates, min_temps, marker='s', linestyle='--', label='Min Temperature (°C)', color='blue')\n",
        "    ax.set_xlabel(\"Date\"); ax.set_ylabel(\"Temperature (°C)\"); ax.set_title(\"Temperature Forecast\")\n",
        "    ax.legend(); ax.grid(True); plt.xticks(rotation=45); plt.tight_layout()\n",
        "    if output_type == 'figure': return fig\n",
        "    else: plt.show(); return\n",
        "\n",
        "def create_precipitation_visualisation(weather_data: dict, output_type: str = 'display'):\n",
        "    # (Code for precip viz remains largely the same)\n",
        "    if not weather_data or not weather_data.get(\"forecast\"): print(\"No forecast data for precip viz.\"); return\n",
        "    forecasts = weather_data[\"forecast\"]\n",
        "    if not forecasts: print(\"Forecast list empty for precip viz.\"); return\n",
        "    dates = [item.get(\"date\", f\"Day {i+1}\") for i, item in enumerate(forecasts)]\n",
        "    try:\n",
        "        precip_chances = [int(item.get(\"precipitation_chance\", \"0\")) for item in forecasts] # Already string number\n",
        "    except (ValueError, TypeError) as e: print(f\"Error processing precip data for viz: {e}\"); precip_chances = [0] * len(dates)\n",
        "    fig, ax = plt.subplots(); ax.bar(dates, precip_chances, color='skyblue', label='Max Precipitation Chance (%)')\n",
        "    ax.set_xlabel(\"Date\"); ax.set_ylabel(\"Precipitation Chance (%)\"); ax.set_ylim(0, 100); ax.set_title(\"Precipitation Chance Forecast\")\n",
        "    ax.legend(); ax.grid(axis='y'); plt.xticks(rotation=45); plt.tight_layout()\n",
        "    if output_type == 'figure': return fig\n",
        "    else: plt.show(); return\n",
        "\n",
        "def create_uv_index_visualisation(weather_data: dict, output_type: str = 'display'):\n",
        "    # (Code for UV viz remains largely the same)\n",
        "    if not weather_data or not weather_data.get(\"forecast\"): print(\"No forecast data for UV viz.\"); return\n",
        "    forecasts = weather_data[\"forecast\"]\n",
        "    if not forecasts: print(\"Forecast list empty for UV viz.\"); return\n",
        "    dates = [item.get(\"date\", f\"Day {i+1}\") for i, item in enumerate(forecasts)]\n",
        "    try:\n",
        "        uv_indices = [];\n",
        "        for item in forecasts:\n",
        "            uv_val = item.get(\"uvIndex\", \"0\");\n",
        "            try: uv_indices.append(int(uv_val))\n",
        "            except ValueError: uv_indices.append(0); print(f\"Warning: Bad UV Index '{uv_val}' for {item.get('date')}. Using 0.\")\n",
        "    except (AttributeError, KeyError, TypeError) as e: print(f\"Error processing UV data for viz: {e}\"); return\n",
        "    fig, ax = plt.subplots(); colors = []\n",
        "    for uv in uv_indices:\n",
        "        if uv <= 2: colors.append('green')\n",
        "        elif uv <= 5: colors.append('yellow')\n",
        "        elif uv <= 7: colors.append('orange')\n",
        "        elif uv <= 10: colors.append('red')\n",
        "        else: colors.append('purple')\n",
        "    ax.bar(dates, uv_indices, color=colors, label='Max UV Index')\n",
        "    ax.set_xlabel(\"Date\"); ax.set_ylabel(\"UV Index\"); ax.set_ylim(0, max(11, max(uv_indices) + 1 if uv_indices else 11) )\n",
        "    ax.set_title(\"UV Index Forecast\"); ax.grid(axis='y'); plt.xticks(rotation=45); plt.tight_layout()\n",
        "    if output_type == 'figure': return fig\n",
        "    else: plt.show(); return\n",
        "\n",
        "# --- New Visualisation Functions ---\n",
        "def create_humidity_visualisation(weather_data: dict, output_type: str = 'display'):\n",
        "    if not weather_data or not weather_data.get(\"forecast\"): print(\"No forecast data for humidity viz.\"); return\n",
        "    forecasts = weather_data[\"forecast\"]\n",
        "    if not forecasts: print(\"Forecast list empty for humidity viz.\"); return\n",
        "    dates = [item.get(\"date\", f\"Day {i+1}\") for i, item in enumerate(forecasts)]\n",
        "    try:\n",
        "        values = [int(item.get(\"humidity\", \"0\")) for item in forecasts] # From midday hourly\n",
        "    except (ValueError, TypeError) as e: print(f\"Error processing humidity data for viz: {e}\"); return\n",
        "    _plot_forecast_data(dates, values, \"Midday Humidity Forecast\", \"Humidity (%)\", color='teal')\n",
        "\n",
        "def create_wind_speed_visualisation(weather_data: dict, output_type: str = 'display'):\n",
        "    if not weather_data or not weather_data.get(\"forecast\"): print(\"No forecast data for wind speed viz.\"); return\n",
        "    forecasts = weather_data[\"forecast\"]\n",
        "    if not forecasts: print(\"Forecast list empty for wind speed viz.\"); return\n",
        "    dates = [item.get(\"date\", f\"Day {i+1}\") for i, item in enumerate(forecasts)]\n",
        "    try:\n",
        "        values = [int(item.get(\"wind_speed\", \"0\")) for item in forecasts] # From midday hourly\n",
        "    except (ValueError, TypeError) as e: print(f\"Error processing wind speed data for viz: {e}\"); return\n",
        "    _plot_forecast_data(dates, values, \"Midday Wind Speed Forecast\", \"Wind Speed (Kmph)\", color='grey')\n",
        "\n",
        "def create_pressure_visualisation(weather_data: dict, output_type: str = 'display'):\n",
        "    if not weather_data or not weather_data.get(\"forecast\"): print(\"No forecast data for pressure viz.\"); return\n",
        "    forecasts = weather_data[\"forecast\"]\n",
        "    if not forecasts: print(\"Forecast list empty for pressure viz.\"); return\n",
        "    dates = [item.get(\"date\", f\"Day {i+1}\") for i, item in enumerate(forecasts)]\n",
        "    try:\n",
        "        values = [int(item.get(\"pressure\", \"0\")) for item in forecasts] # From midday hourly\n",
        "    except (ValueError, TypeError) as e: print(f\"Error processing pressure data for viz: {e}\"); return\n",
        "    _plot_forecast_data(dates, values, \"Midday Atmospheric Pressure Forecast\", \"Pressure (hPa)\", color='purple')\n",
        "\n",
        "def create_visibility_visualisation(weather_data: dict, output_type: str = 'display'):\n",
        "    if not weather_data or not weather_data.get(\"forecast\"): print(\"No forecast data for visibility viz.\"); return\n",
        "    forecasts = weather_data[\"forecast\"]\n",
        "    if not forecasts: print(\"Forecast list empty for visibility viz.\"); return\n",
        "    dates = [item.get(\"date\", f\"Day {i+1}\") for i, item in enumerate(forecasts)]\n",
        "    try:\n",
        "        values = [int(item.get(\"visibility\", \"0\")) for item in forecasts] # From midday hourly\n",
        "    except (ValueError, TypeError) as e: print(f\"Error processing visibility data for viz: {e}\"); return\n",
        "    _plot_forecast_data(dates, values, \"Midday Visibility Forecast\", \"Visibility (km)\", color='brown')"
      ],
      "metadata": {
        "id": "BIiZqV8dC67z"
      },
      "execution_count": 23,
      "outputs": []
    },
    {
      "cell_type": "markdown",
      "source": [
        "# ## 4. Natural Language Processing\n",
        "# (NLP functions parse_weather_question or generate_weather_response remain unchanged from the previous version that added more data types.\n",
        "# They already parse/respond to humidity, wind, pressure, visibility keywords if the data is in current_conditions.\n",
        "# For forecast, generate_weather_response would need updating if we want specific NL answers for these new daily forecast values.)\n",
        "# For now, these new daily forecast values will primarily be visible in the detailed display and new visualisations."
      ],
      "metadata": {
        "id": "-25XQloSDCE9"
      }
    },
    {
      "cell_type": "code",
      "source": [
        "def parse_weather_question(question: str) -> dict:\n",
        "    # (parse_weather_question remains the same as the previous version)\n",
        "    print(f\"Parsing question: \\\"{question}\\\"\")\n",
        "    parsed_info = {\"location\": None, \"time_period\": \"current\", \"attribute\": \"general\"}\n",
        "    question_lower = question.lower()\n",
        "    known_locations = {\n",
        "        \"london\": \"London\", \"new york\": \"New York\", \"newyork\": \"New York\",\n",
        "        \"paris\": \"Paris\", \"tokyo\": \"Tokyo\", \"hangzhou\": \"Hangzhou\",\n",
        "        \"beijing\": \"Beijing\", \"shanghai\": \"Shanghai\"\n",
        "    }\n",
        "    for loc_key, loc_val in known_locations.items():\n",
        "        if loc_key in question_lower: parsed_info[\"location\"] = loc_val; break\n",
        "    if \"tomorrow\" in question_lower: parsed_info[\"time_period\"] = \"tomorrow\"\n",
        "    elif \"today\" in question_lower: parsed_info[\"time_period\"] = \"today\"\n",
        "    elif \"forecast\" in question_lower: parsed_info[\"time_period\"] = \"forecast\"\n",
        "\n",
        "    # Attribute extraction (ensure keys match what get_weather_data 'current' provides or forecast can provide if NLP is extended)\n",
        "    if \"temperature\" in question_lower and \"feels like\" not in question_lower: parsed_info[\"attribute\"] = \"temperature\"\n",
        "    elif \"feels like\" in question_lower: parsed_info[\"attribute\"] = \"feels_like_temp\" # Matches key in 'current'\n",
        "    elif \"precipitation\" in question_lower or \"rain\" in question_lower : parsed_info[\"attribute\"] = \"precipitation_chance\" # Matches key in 'forecast'\n",
        "    elif \"wind\" in question_lower: parsed_info[\"attribute\"] = \"wind_full\" # Matches key for full wind string in 'current'\n",
        "    elif \"visibility\" in question_lower: parsed_info[\"attribute\"] = \"visibility_full\" # Matches key for full visibility string in 'current'\n",
        "    elif \"pressure\" in question_lower: parsed_info[\"attribute\"] = \"pressure_full\"   # Matches key for full pressure string in 'current'\n",
        "    elif \"uv index\" in question_lower or (\"uv\" in question_lower and \"index\" in question_lower): parsed_info[\"attribute\"] = \"uvIndex\"\n",
        "    elif \"humidity\" in question_lower: parsed_info[\"attribute\"] = \"humidity\" # Matches key in 'current' and new 'forecast' item\n",
        "    elif \"moonrise\" in question_lower: parsed_info[\"attribute\"] = \"moonrise\"\n",
        "    elif \"moonset\" in question_lower: parsed_info[\"attribute\"] = \"moonset\"\n",
        "    elif \"moon phase\" in question_lower : parsed_info[\"attribute\"] = \"moon_phase\"\n",
        "    elif \"condition\" in question_lower or (\"what\" in question_lower and \"weather\" in question_lower and parsed_info[\"attribute\"] == \"general\"): parsed_info[\"attribute\"] = \"condition\"\n",
        "    print(f\"Parsed info: {parsed_info}\")\n",
        "    return parsed_info\n",
        "\n",
        "def generate_weather_response(parsed_question: dict, weather_data: dict) -> str:\n",
        "    # (generate_weather_response can be used as is; it primarily targets current conditions for many attributes.\n",
        "    # To make it answer about forecasted humidity, wind etc., its logic for \"tomorrow\" or \"forecast\" would need to be expanded\n",
        "    # to look for these keys in the forecast items and formulate a sentence. For now, it will mostly give general forecast.)\n",
        "    if weather_data.get(\"current\", {}).get(\"error_message\"): return f\"Error: {weather_data['current']['error_message']}\"\n",
        "    if not weather_data or (not weather_data.get(\"current\") and not weather_data.get(\"forecast\")): return f\"No valid data for {parsed_question.get('location', 'location')}.\"\n",
        "    location = parsed_question.get(\"location\", \"current location\"); time_period = parsed_question.get(\"time_period\", \"current\"); attribute = parsed_question.get(\"attribute\", \"general\")\n",
        "    response_parts = []; current_conditions = weather_data.get(\"current\", {}); forecasts = weather_data.get(\"forecast\", [])\n",
        "    def get_val(data_dict, key, default=\"N/A\"): return data_dict.get(key, default) if data_dict.get(key) is not None else default\n",
        "\n",
        "    if time_period == \"current\" or time_period == \"today\":\n",
        "        if not current_conditions or current_conditions.get(\"temperature\") is None: return f\"No detailed current conditions for {location}.\"\n",
        "        response_parts.append(f\"For {location} (current/today):\")\n",
        "        if attribute == \"general\": # Expanded general response\n",
        "            response_parts.append(f\"It's {get_val(current_conditions, 'temperature')} (feels like {get_val(current_conditions, 'feels_like_temp')}) with {get_val(current_conditions, 'condition')}.\")\n",
        "            response_parts.append(f\"Wind: {get_val(current_conditions, 'wind_full')}. Humidity: {get_val(current_conditions, 'humidity')}.\")\n",
        "            response_parts.append(f\"Visibility: {get_val(current_conditions, 'visibility_full')}. Pressure: {get_val(current_conditions, 'pressure_full')}. UV Index: {get_val(current_conditions, 'uvIndex')}.\")\n",
        "            response_parts.append(f\"Sunrise: {get_val(current_conditions, 'sunrise')}, Sunset: {get_val(current_conditions, 'sunset')}.\")\n",
        "            response_parts.append(f\"Moonrise: {get_val(current_conditions, 'moonrise')}, Moonset: {get_val(current_conditions, 'moonset')}, Phase: {get_val(current_conditions, 'moon_phase')}.\")\n",
        "        # Specific attributes - ensure keys match 'current' dictionary from get_weather_data\n",
        "        elif attribute == \"temperature\": response_parts.append(f\"Temperature: {get_val(current_conditions, 'temperature')}.\")\n",
        "        elif attribute == \"feels_like_temp\": response_parts.append(f\"Feels like: {get_val(current_conditions, 'feels_like_temp')}.\")\n",
        "        elif attribute == \"condition\": response_parts.append(f\"Condition: {get_val(current_conditions, 'condition')}.\")\n",
        "        elif attribute == \"wind_full\": response_parts.append(f\"Wind: {get_val(current_conditions, 'wind_full')}.\")\n",
        "        elif attribute == \"humidity\": response_parts.append(f\"Humidity: {get_val(current_conditions, 'humidity')}.\")\n",
        "        elif attribute == \"visibility_full\": response_parts.append(f\"Visibility: {get_val(current_conditions, 'visibility_full')}.\")\n",
        "        elif attribute == \"pressure_full\": response_parts.append(f\"Pressure: {get_val(current_conditions, 'pressure_full')}.\")\n",
        "        elif attribute == \"uvIndex\": response_parts.append(f\"UV Index: {get_val(current_conditions, 'uvIndex')}.\")\n",
        "        elif attribute == \"sunrise\": response_parts.append(f\"Sunrise: {get_val(current_conditions, 'sunrise')}.\")\n",
        "        elif attribute == \"sunset\": response_parts.append(f\"Sunset: {get_val(current_conditions, 'sunset')}.\")\n",
        "        # ... (moonrise, moonset, moon_phase as before)\n",
        "        else: response_parts.append(f\"Currently, it's {get_val(current_conditions, 'temperature')} and {get_val(current_conditions, 'condition')}.\")\n",
        "\n",
        "    elif time_period == \"tomorrow\" or time_period == \"forecast\":\n",
        "        if not forecasts: return f\"No forecast data for {location}.\"\n",
        "        response_parts.append(f\"For {location}:\")\n",
        "        target_day_fc = None\n",
        "        if time_period == \"tomorrow\":\n",
        "            if len(forecasts) > 1: target_day_fc = forecasts[1]\n",
        "            elif len(forecasts) == 1 and forecasts[0].get('date') != datetime.now().strftime('%Y-%m-%d'): target_day_fc = forecasts[0]\n",
        "            else: return f\"No specific forecast for tomorrow for {location}.\"\n",
        "\n",
        "        if target_day_fc: # Specific day (e.g., tomorrow)\n",
        "            day_date = get_val(target_day_fc, 'date')\n",
        "            response_parts.append(f\"For {day_date} (tomorrow):\")\n",
        "            if attribute == \"general\":\n",
        "                response_parts.append(f\"Expect {get_val(target_day_fc, 'condition')} with temps from {get_val(target_day_fc, 'min_temp')}°C to {get_val(target_day_fc, 'max_temp')}°C.\")\n",
        "                response_parts.append(f\"Midday: Humidity {get_val(target_day_fc, 'humidity')}%, Wind {get_val(target_day_fc, 'wind_speed')}km/h, Pressure {get_val(target_day_fc, 'pressure')}hPa, Visibility {get_val(target_day_fc, 'visibility')}km.\")\n",
        "                response_parts.append(f\"Max Precip Chance: {get_val(target_day_fc, 'precipitation_chance')}%. UV Index: {get_val(target_day_fc, 'uvIndex')}.\")\n",
        "            # Add specific attribute responses for tomorrow if desired, e.g.:\n",
        "            elif attribute == \"humidity\": response_parts.append(f\"Midday humidity is expected to be {get_val(target_day_fc, 'humidity')}%\")\n",
        "            # ... (similar for wind_speed, pressure, visibility for tomorrow)\n",
        "            else: # Fallback to general for tomorrow if attribute not specifically handled for forecast\n",
        "                response_parts.append(f\"Expect {get_val(target_day_fc, 'condition')} with a high of {get_val(target_day_fc, 'max_temp')}°C and low of {get_val(target_day_fc, 'min_temp')}°C.\")\n",
        "\n",
        "        elif time_period == \"forecast\": # General multi-day forecast\n",
        "            response_parts.append(\"Upcoming forecast:\")\n",
        "            for i, day_fc in enumerate(forecasts):\n",
        "                response_parts.append(f\"  - {get_val(day_fc, 'date')}: {get_val(day_fc, 'condition')}, Temp: {get_val(day_fc, 'min_temp')}-{get_val(day_fc, 'max_temp')}°C, Precip: {get_val(day_fc, 'precipitation_chance')}%, UV: {get_val(day_fc, 'uvIndex')}.\")\n",
        "                response_parts.append(f\"     Midday: Hum: {get_val(day_fc, 'humidity')}%, Wind: {get_val(day_fc, 'wind_speed')}km/h, Pres: {get_val(day_fc, 'pressure')}hPa, Vis: {get_val(day_fc, 'visibility')}km.\")\n",
        "        else: return f\"Cannot provide '{attribute}' for '{time_period}' at this time.\"\n",
        "    else: return f\"Unsupported time period: {time_period}.\"\n",
        "    return \" \".join(response_parts) if response_parts else \"Could not form a response.\""
      ],
      "metadata": {
        "id": "Zy-JAVPDDHKS"
      },
      "execution_count": 24,
      "outputs": []
    },
    {
      "cell_type": "markdown",
      "source": [
        "# ## 5. User Interface\n",
        "# Updated to offer all new visualisations."
      ],
      "metadata": {
        "id": "-b1cCUGCDLaX"
      }
    },
    {
      "cell_type": "code",
      "source": [
        "def display_weather_info(weather_data: dict, location: str):\n",
        "    # (display_weather_info now shows the numeric values that will be used in new visualisations from 'current')\n",
        "    # (and lists the new forecastable daily values)\n",
        "    if weather_data.get(\"current\", {}).get(\"error_message\"):\n",
        "        print(f\"\\nError: {weather_data['current']['error_message']}\")\n",
        "        return\n",
        "    # ... (rest of display_weather_info from previous, ensuring it shows new current fields like wind_speed, pressure, visibility (numeric part))\n",
        "    print(f\"\\n--- Weather Information for {location.title()} ---\")\n",
        "    current = weather_data.get(\"current\")\n",
        "    if current and current.get(\"temperature\"):\n",
        "        print(\"\\nCurrent Conditions (Today):\")\n",
        "        print(f\"  Temperature: {current.get('temperature', 'N/A')} (Feels Like: {current.get('feels_like_temp', 'N/A')})\")\n",
        "        print(f\"  Condition:   {current.get('condition', 'N/A')}\")\n",
        "        print(f\"  Wind:        {current.get('wind_full', 'N/A')}\") # Show full string\n",
        "        print(f\"  Humidity:    {current.get('humidity', 'N/A')}\")    # Already percentage string from get_weather_data\n",
        "        print(f\"  Visibility:  {current.get('visibility_full', 'N/A')}\")\n",
        "        print(f\"  Pressure:    {current.get('pressure_full', 'N/A')}\")\n",
        "        print(f\"  UV Index:    {current.get('uvIndex', 'N/A')}\")\n",
        "        print(f\"  Sunrise:     {current.get('sunrise', 'N/A')}, Sunset:      {current.get('sunset', 'N/A')}\")\n",
        "        print(f\"  Moonrise:    {current.get('moonrise', 'N/A')}, Moonset:     {current.get('moonset', 'N/A')}, Phase:  {current.get('moon_phase', 'N/A')}\")\n",
        "    else: print(\"\\nNo detailed current conditions data available.\")\n",
        "    forecasts = weather_data.get(\"forecast\")\n",
        "    if forecasts:\n",
        "        print(\"\\nForecast (Midday Representative Values):\")\n",
        "        for day_data in forecasts:\n",
        "            print(f\"  --- {day_data.get('date', 'N/A')} ---\")\n",
        "            print(f\"    Condition:   {day_data.get('condition', 'N/A')}, Temp: {day_data.get('min_temp', 'N/A')}-{day_data.get('max_temp', 'N/A')}°C\")\n",
        "            print(f\"    Max Precip:  {day_data.get('precipitation_chance', 'N/A')}%, UV Index: {day_data.get('uvIndex', 'N/A')}\")\n",
        "            print(f\"    Midday -> Hum: {day_data.get('humidity')}% Wind: {day_data.get('wind_speed')}km/h Pres: {day_data.get('pressure')}hPa Vis: {day_data.get('visibility')}km\")\n",
        "            print(f\"    Sunrise: {day_data.get('sunrise', 'N/A')}, Sunset: {day_data.get('sunset', 'N/A')}, Moon Phase: {day_data.get('moon_phase', 'N/A')}\")\n",
        "    else: print(\"\\nNo forecast data available.\")\n",
        "    print(\"\\n--- End of Report ---\")\n",
        "\n",
        "\n",
        "def main_menu():\n",
        "    while True:\n",
        "        print(\"\\nWeather Advisor Main Menu (Comprehensive Visualisations):\")\n",
        "        print(\"1. Get weather by location (Detailed + Visualisations)\")\n",
        "        print(\"2. Ask a weather question (Natural Language)\")\n",
        "        print(\"3. Exit\")\n",
        "        try:\n",
        "            choice = pyinputplus.inputChoice(['1', '2', '3'], prompt=\"Enter choice (1-3): \")\n",
        "            if choice == '1':\n",
        "                location = pyinputplus.inputStr(\"Enter city name: \").strip()\n",
        "                if not location: print(\"Location cannot be empty.\"); continue\n",
        "                weather_data = get_weather_data(location, DEFAULT_FORECAST_DAYS)\n",
        "\n",
        "                if weather_data and not weather_data.get(\"current\", {}).get(\"error_message\"):\n",
        "                    display_weather_info(weather_data, location)\n",
        "                    if weather_data.get(\"forecast\") and len(weather_data.get(\"forecast\",[])) > 0:\n",
        "                        print(\"\\nAvailable forecast visualisations:\")\n",
        "                        viz_options = {\n",
        "                            'a': \"Temperature Trends\", 'b': \"Precipitation Chance\", 'c': \"UV Index Forecast\",\n",
        "                            'd': \"Humidity Forecast\", 'e': \"Wind Speed Forecast\", 'f': \"Pressure Forecast\",\n",
        "                            'g': \"Visibility Forecast\", 'h': \"Show ALL Forecast Visuals\", 'i': \"None\"\n",
        "                        }\n",
        "                        for key, desc in viz_options.items(): print(f\"  {key}. {desc}\")\n",
        "\n",
        "                        viz_choice_keys = pyinputplus.inputMenu(list(viz_options.values()), lettered=True, numbered=False, prompt=\"Show which forecast visualisations?\\n\", blank=True)\n",
        "                        # Convert descriptive choice back to key for easier logic, or use description directly\n",
        "\n",
        "                        # For simplicity, let's assume user enters the letter choice from the printed menu\n",
        "                        # A more robust inputMenu might return the key directly or require mapping.\n",
        "                        # The pyinputplus.inputMenu returns the selected string.\n",
        "\n",
        "                        viz_actions = {\n",
        "                            \"Temperature Trends\": create_temperature_visualisation,\n",
        "                            \"Precipitation Chance\": create_precipitation_visualisation,\n",
        "                            \"UV Index Forecast\": create_uv_index_visualisation,\n",
        "                            \"Humidity Forecast\": create_humidity_visualisation,\n",
        "                            \"Wind Speed Forecast\": create_wind_speed_visualisation,\n",
        "                            \"Pressure Forecast\": create_pressure_visualisation,\n",
        "                            \"Visibility Forecast\": create_visibility_visualisation\n",
        "                        }\n",
        "\n",
        "                        if viz_choice_keys == \"Show ALL Forecast Visuals\":\n",
        "                            for viz_func in viz_actions.values():\n",
        "                                print(f\"\\nGenerating {viz_func.__name__.replace('create_', '').replace('_visualisation','')} Visualisation...\")\n",
        "                                viz_func(weather_data)\n",
        "                        elif viz_choice_keys == \"None\":\n",
        "                            pass # Do nothing\n",
        "                        elif viz_choice_keys in viz_actions:\n",
        "                            print(f\"\\nGenerating {viz_choice_keys} Visualisation...\")\n",
        "                            viz_actions[viz_choice_keys](weather_data)\n",
        "                        # Add handling if pyinputplus.inputMenu with blank=True returns None or blank string\n",
        "                        elif not viz_choice_keys: # User pressed enter for blank\n",
        "                            print(\"No visualisation selected.\")\n",
        "\n",
        "\n",
        "                else:\n",
        "                    if weather_data.get(\"current\", {}).get(\"error_message\"): print(f\"Failed: {weather_data['current']['error_message']}\")\n",
        "                    else: print(f\"Could not get valid weather for {location}.\")\n",
        "\n",
        "            elif choice == '2': # NL Query (visualisation offering after NL could be simplified or more targeted)\n",
        "                # (NL part remains largely the same, visualisations offered are still the primary ones for brevity)\n",
        "                question = pyinputplus.inputStr(\"Ask your weather question: \").strip();\n",
        "                if not question: print(\"Question cannot be empty.\"); continue\n",
        "                parsed_q = parse_weather_question(question)\n",
        "                if not parsed_q.get(\"location\"):\n",
        "                    parsed_q[\"location\"] = pyinputplus.inputStr(\"Which city? \").strip()\n",
        "                    if not parsed_q.get(\"location\"): print(\"Location required.\"); continue\n",
        "\n",
        "                days_for_nl = DEFAULT_FORECAST_DAYS\n",
        "                if parsed_q.get(\"time_period\") == \"tomorrow\": days_for_nl = 2\n",
        "                elif parsed_q.get(\"time_period\") == \"current\" or parsed_q.get(\"time_period\") == \"today\": days_for_nl = 1\n",
        "\n",
        "                weather_data_for_nl = get_weather_data(parsed_q[\"location\"], days_for_nl)\n",
        "                response = generate_weather_response(parsed_q, weather_data_for_nl)\n",
        "                print(f\"\\nAdvisor: {response}\")\n",
        "\n",
        "                if weather_data_for_nl and not weather_data_for_nl.get(\"current\", {}).get(\"error_message\") and weather_data_for_nl.get(\"forecast\"):\n",
        "                    if parsed_q.get(\"time_period\") in [\"tomorrow\", \"forecast\"]:\n",
        "                        # Simplified viz offer after NL for now\n",
        "                        if pyinputplus.inputYesNo(prompt=\"Show primary forecast visualisations (Temp, Precip, UV)? (yes/no): \") == 'yes':\n",
        "                            create_temperature_visualisation(weather_data_for_nl)\n",
        "                            create_precipitation_visualisation(weather_data_for_nl)\n",
        "                            create_uv_index_visualisation(weather_data_for_nl)\n",
        "            elif choice == '3': print(\"Exiting Weather Advisor. Goodbye!\"); break\n",
        "        except pyinputplus.RetryLimitException: print(\"Too many invalid inputs. Try again.\")\n",
        "        except Exception as e: print(f\"Unexpected error: {e}. Try again.\")"
      ],
      "metadata": {
        "id": "9nqW1NhNDQdR"
      },
      "execution_count": 25,
      "outputs": []
    },
    {
      "cell_type": "markdown",
      "source": [
        "# ## 6. Main Application Logic"
      ],
      "metadata": {
        "id": "USo-uQ4hDVh2"
      }
    },
    {
      "cell_type": "code",
      "source": [
        "if __name__ == \"__main__\":\n",
        "    print(\"Welcome to the Weather Advisor! (All numerical forecast data visualisable!)\")\n",
        "    main_menu()"
      ],
      "metadata": {
        "id": "rqktv2ZKDap_",
        "outputId": "57c8f971-b0ea-43a6-c49c-1639dbbdcc26",
        "colab": {
          "base_uri": "https://localhost:8080/"
        }
      },
      "execution_count": null,
      "outputs": [
        {
          "output_type": "stream",
          "name": "stdout",
          "text": [
            "Welcome to the Weather Advisor! (All numerical forecast data visualisable!)\n",
            "\n",
            "Weather Advisor Main Menu (Comprehensive Visualisations):\n",
            "1. Get weather by location (Detailed + Visualisations)\n",
            "2. Ask a weather question (Natural Language)\n",
            "3. Exit\n",
            "Enter choice (1-3): "
          ]
        }
      ]
    },
    {
      "cell_type": "markdown",
      "source": [
        "# ## 7. Testing and Examples\n",
        "# test_loc = \"Berlin\"\n",
        "# print(f\"\\n--- Testing with REAL data for: {test_loc} ---\")\n",
        "# test_data = get_weather_data(test_loc, 3)\n",
        "# display_weather_info(test_data, test_loc)\n",
        "# if test_data and not test_data.get(\"current\", {}).get(\"error_message\") and test_data.get(\"forecast\"):\n",
        "#    create_humidity_visualisation(test_data)\n",
        "#    create_wind_speed_visualisation(test_data)\n",
        "#    create_pressure_visualisation(test_data)\n",
        "#    create_visibility_visualisation(test_data)"
      ],
      "metadata": {
        "id": "16bm0EW1DhER"
      }
    },
    {
      "cell_type": "code",
      "source": [],
      "metadata": {
        "id": "OKDozVLg-4rd"
      },
      "execution_count": null,
      "outputs": []
    }
  ]
}